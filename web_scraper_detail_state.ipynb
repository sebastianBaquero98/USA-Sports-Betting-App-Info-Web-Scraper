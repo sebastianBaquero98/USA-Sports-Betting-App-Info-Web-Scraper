{
 "cells": [
  {
   "cell_type": "code",
   "execution_count": null,
   "metadata": {},
   "outputs": [],
   "source": [
    "from bs4 import BeautifulSoup\n",
    "from selenium import webdriver\n",
    "import time\n",
    "from datetime import datetime"
   ]
  },
  {
   "cell_type": "code",
   "execution_count": null,
   "metadata": {},
   "outputs": [],
   "source": [
    "states = [\"arizona\",\"arkansas\",\"colorado\",\"CT\",\"delaware\",\"DC\",\"illinois\",\"indiana\",\"iowa\",\"kansas\",\"kentucky\",\"louisiana\",\"maine\",\"maryland\",\"massachusetts\",\"michigan\",\"mississippi\",\"montana\",\"nevada\",\"NH\",\"NJ\",\"NY\",\"NC\",\"ohio\",\"oregon\",\"PA\",\"RI\",\"SD\",\"TN\",\"vermont\",\"virginia\",\"WV\",\"wyoming\"]"
   ]
  },
  {
   "cell_type": "code",
   "execution_count": null,
   "metadata": {},
   "outputs": [],
   "source": [
    "translationStates = {\"arizona\":\"AZ\", \"arkansas\":\"AR\",\"colorado\":\"CO\",\"delaware\":\"DE\",\"illinois\":\"IL\",\"indiana\":\"IN\",\"iowa\":\"IA\",\"kansas\":\"KS\",\"kentucky\":\"KY\",\"maine\":\"ME\",\"maryland\":\"MD\",\"massachusetts\":\"MA\",\"michigan\":\"MI\",\"mississippi\":\"MS\",\"montana\":\"MT\",\"nevada\":\"NV\",\"ohio\":\"OH\",\"oregon\":\"OR\",\"vermont\":\"VT\",\"virginia\":\"VA\",\"wyoming\":\"WY\"}\n",
    "fields = [\"state\",\"name\",\"position\",\"features\"]"
   ]
  },
  {
   "cell_type": "code",
   "execution_count": null,
   "metadata": {},
   "outputs": [],
   "source": [
    "browser=webdriver.Firefox()\n",
    "info = []\n",
    "\n",
    "# get source code\n",
    "for state in states:\n",
    "    print('this is state,',state)\n",
    "    browser.get(f\"https://www.legalsportsreport.com/{state}/\")\n",
    "    html = browser.page_source\n",
    "    time.sleep(2)\n",
    "    \n",
    "    soup = BeautifulSoup(html, 'html.parser')\n",
    "    table = soup.find_all('div', attrs={'class':'cta-row row-body'})\n",
    "    # Checking if information available\n",
    "    if len(table) > 0:\n",
    "    # Iterating through sport books from state\n",
    "        for index,row in enumerate(table):\n",
    "            tempSportingBook = {}\n",
    "            # Get Name\n",
    "            name = row.find(\"a\").get(\"title\")\n",
    "\n",
    "            # Get Features\n",
    "            topFeatures = row.find(\"div\",attrs={'class':'cont cta-list-item'})\n",
    "            features = \"\"\n",
    "            for feature in topFeatures:\n",
    "                if  \"Use Bonus Code:\" not in feature.text.strip() and \"Use Promo Code:\" not in feature.text.strip() and \"Use Exclusive Affiliate Code:\" not in feature.text.strip() and \"Call 1-800-GAMBLER\" not in feature.text.strip() and \"Gambling Problem?\" not in feature.text.strip() and \"Use Affiliate Code\" not in feature.text.strip() and \"To Claim\" not in feature.text.strip() and \"Gambling problem?\" not in feature.text.strip():\n",
    "                    features+=(feature.text.strip()+\". \")\n",
    "            \n",
    "            if state in translationStates:\n",
    "                tempSportingBook['state'] = translationStates[state]\n",
    "\n",
    "            elif state not in translationStates:\n",
    "                tempSportingBook['state'] = state\n",
    "\n",
    "            tempSportingBook['name'] = name\n",
    "            tempSportingBook['position'] = index+1\n",
    "            tempSportingBook['features'] = features\n",
    "            info.append(tempSportingBook)\n",
    "        print('Retrieved for '+tempSportingBook['state'])\n"
   ]
  },
  {
   "cell_type": "code",
   "execution_count": null,
   "metadata": {},
   "outputs": [],
   "source": [
    "browser.close()"
   ]
  },
  {
   "cell_type": "code",
   "execution_count": null,
   "metadata": {},
   "outputs": [],
   "source": [
    "# Write Files\n",
    "import csv\n",
    "# Write revenue by state\n",
    "filename = \"detail_state.csv\"\n",
    "\n",
    "# writing to csv file\n",
    "with open(filename, 'w') as csvfile:\n",
    "    # creating a csv dict writer object\n",
    "    writer = csv.DictWriter(csvfile, fieldnames=fields,delimiter=';')\n",
    "\n",
    "    # writing headers (field names)\n",
    "    writer.writeheader()\n",
    "\n",
    "    # writing data rows\n",
    "    writer.writerows(info)"
   ]
  },
  {
   "cell_type": "code",
   "execution_count": null,
   "metadata": {},
   "outputs": [],
   "source": []
  }
 ],
 "metadata": {
  "kernelspec": {
   "display_name": "wsenv",
   "language": "python",
   "name": "python3"
  },
  "language_info": {
   "codemirror_mode": {
    "name": "ipython",
    "version": 3
   },
   "file_extension": ".py",
   "mimetype": "text/x-python",
   "name": "python",
   "nbconvert_exporter": "python",
   "pygments_lexer": "ipython3",
   "version": "3.9.6"
  }
 },
 "nbformat": 4,
 "nbformat_minor": 2
}
