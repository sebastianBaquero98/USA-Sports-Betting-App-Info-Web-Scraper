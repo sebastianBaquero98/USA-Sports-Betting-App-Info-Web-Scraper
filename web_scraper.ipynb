{
 "cells": [
  {
   "cell_type": "code",
   "execution_count": 1,
   "metadata": {},
   "outputs": [
    {
     "name": "stderr",
     "output_type": "stream",
     "text": [
      "/Users/sebastianbaquero/Code/Sport Betting Stats/wsenv/lib/python3.9/site-packages/urllib3/__init__.py:35: NotOpenSSLWarning: urllib3 v2 only supports OpenSSL 1.1.1+, currently the 'ssl' module is compiled with 'LibreSSL 2.8.3'. See: https://github.com/urllib3/urllib3/issues/3020\n",
      "  warnings.warn(\n"
     ]
    }
   ],
   "source": [
    "import requests\n",
    "from bs4 import BeautifulSoup\n",
    "from selenium import webdriver\n",
    "import time\n",
    "from datetime import datetime\n",
    "\n",
    "#from selenium.webdriver.chrome.service import Service as ChromeService\n",
    "#from webdriver_manager.chrome import ChromeDriverManager"
   ]
  },
  {
   "cell_type": "code",
   "execution_count": 2,
   "metadata": {},
   "outputs": [],
   "source": [
    "browser=webdriver.Firefox()\n",
    "\n",
    "# get source code\n",
    "browser.get(\"https://www.legalsportsreport.com/sports-betting/revenue\")\n",
    "html = browser.page_source\n",
    "time.sleep(2)\n",
    "#print(html)\n",
    "\n",
    "# close web browser\n",
    "browser.close()"
   ]
  },
  {
   "cell_type": "code",
   "execution_count": 3,
   "metadata": {},
   "outputs": [],
   "source": [
    "soup = BeautifulSoup(html, 'html.parser')"
   ]
  },
  {
   "cell_type": "code",
   "execution_count": 4,
   "metadata": {},
   "outputs": [],
   "source": [
    "# Get States Revenue Table\n",
    "table = soup.find('table', attrs={'class':'tablepress tablepress-id-Rev_Markets'})\n",
    "table_body = table.find('tbody')"
   ]
  },
  {
   "cell_type": "code",
   "execution_count": 5,
   "metadata": {},
   "outputs": [],
   "source": [
    "fieldsStateRevenues = [\"state\", \"handle\",\"revenue\",\"hold\",\"taxes\"]\n",
    "monthlyRevenues = [\"date\", \"handle\",\"revenue\",\"hold\",\"taxes\"]\n",
    "monthlyRevenuesByState = [\"state\",\"date\", \"handle\",\"revenue\",\"hold\",\"taxes\"]\n"
   ]
  },
  {
   "cell_type": "code",
   "execution_count": 6,
   "metadata": {},
   "outputs": [],
   "source": [
    "stateRevenueInfo = []\n",
    "rows = table_body.find_all('tr')\n",
    "#print(len(rows))\n",
    "for row in rows:\n",
    "    cols = row.find_all('td')\n",
    "    rowDict = {}\n",
    "    for index, col in enumerate(cols):\n",
    "        if index == 0:\n",
    "            rowDict['state'] = col.text.strip()\n",
    "        elif index == 1:\n",
    "            if col.text.strip() != '?':\n",
    "                rowDict['handle'] = int(col.text.strip().replace(\"$\",\"\").replace(\",\",\"\"))\n",
    "            else:\n",
    "                rowDict['handle'] = 0\n",
    "        elif index == 2:\n",
    "            if col.text.strip() != '?':\n",
    "                rowDict['revenue'] = int(col.text.strip().replace(\"$\",\"\").replace(\",\",\"\"))\n",
    "            else:\n",
    "                rowDict['revenue'] = 0\n",
    "        elif index == 3:\n",
    "            if col.text.strip() != '?':\n",
    "                rowDict['hold'] = col.text.strip().replace(\"%\",\"\").replace(\",\",\".\")\n",
    "            else:\n",
    "                rowDict['hold'] = '0'\n",
    "        elif index == 4:\n",
    "            if col.text.strip() != '?':\n",
    "                rowDict['taxes'] = int(col.text.strip().replace(\"$\",\"\").replace(\",\",\"\"))\n",
    "            else:\n",
    "                rowDict['taxes'] = 0\n",
    "\n",
    "    stateRevenueInfo.append(rowDict)\n"
   ]
  },
  {
   "cell_type": "code",
   "execution_count": 7,
   "metadata": {},
   "outputs": [],
   "source": [
    "#stateRevenueInfo"
   ]
  },
  {
   "cell_type": "code",
   "execution_count": 8,
   "metadata": {},
   "outputs": [],
   "source": [
    "# Get Monthly Revenue Table\n",
    "table = soup.find('table', attrs={'class':'tablepress tablepress-id-Rev_Months'})\n",
    "table_body = table.find('tbody')"
   ]
  },
  {
   "cell_type": "code",
   "execution_count": 9,
   "metadata": {},
   "outputs": [],
   "source": [
    "def convert_to_date(date_str):\n",
    "    # Parse the input string\n",
    "    date_obj = datetime.strptime(date_str, \"%B %Y\")\n",
    "    # Convert to the desired format\n",
    "    formatted_date = date_obj.strftime(\"%Y-%m-%d\")\n",
    "    return formatted_date"
   ]
  },
  {
   "cell_type": "code",
   "execution_count": 10,
   "metadata": {},
   "outputs": [],
   "source": [
    "monthlyRevenueInfo = []\n",
    "rows = table_body.find_all('tr')\n",
    "#print(len(rows))\n",
    "for row in rows:\n",
    "    cols = row.find_all('td')\n",
    "    rowDict = {}\n",
    "    for index, col in enumerate(cols):\n",
    "        if index == 0:\n",
    "            rowDict['date'] = convert_to_date(col.text.strip())\n",
    "\n",
    "        elif index == 1:\n",
    "            rowDict['handle'] = int(col.text.strip().replace(\"$\",\"\").replace(\",\",\"\"))\n",
    "\n",
    "        elif index == 2:\n",
    "            rowDict['revenue'] = int(col.text.strip().replace(\"$\",\"\").replace(\",\",\"\"))\n",
    "\n",
    "        elif index == 3:\n",
    "            rowDict['hold'] = col.text.strip().replace(\"%\",\"\").replace(\",\",\".\")\n",
    "\n",
    "        elif index == 4:\n",
    "            rowDict['taxes'] = int(col.text.strip().replace(\"$\",\"\").replace(\",\",\"\"))\n",
    "\n",
    "    monthlyRevenueInfo.append(rowDict)"
   ]
  },
  {
   "cell_type": "code",
   "execution_count": 11,
   "metadata": {},
   "outputs": [],
   "source": [
    "#monthlyRevenueInfo"
   ]
  },
  {
   "cell_type": "code",
   "execution_count": 12,
   "metadata": {},
   "outputs": [],
   "source": [
    "states = [\"AZ\",\"AR\",\"CO\",\"CT\",\"DE\",\"DC\",\"IL\",\"IN\",\"IA\",\"KS\",\"KY\",\"LA\",\"ME\",\"MD dataTable\",\"MA\",\"MI\",\"MS\",\"MT\",\"NV\",\"NH\",\"NJ\",\"NY\",\"NC\",\"OH\",\"OR\",\"PA\",\"RI\",\"SD\",\"TN\",\"VT\",\"VA\",\"WV\",\"WY\"]\n",
    "noData = [\"Florida\", \"Nebraska\",\"New Mexico\",\"North Dakota\",\"Washington\",\"Wisconsin\",]"
   ]
  },
  {
   "cell_type": "code",
   "execution_count": 13,
   "metadata": {},
   "outputs": [],
   "source": [
    "# Get Monthly Revenue by State\n",
    "infoRevenueByStateAndMonth = []\n",
    "for state in states:\n",
    "    table = soup.find('table', attrs={'class':f'tablepress tablepress-id-Rev{state}'})\n",
    "    table_body = table.find('tbody')\n",
    "    rows = table_body.find_all('tr')\n",
    "    for row in rows:\n",
    "        tempState = {}\n",
    "        tempState['state'] = state\n",
    "        cols = row.find_all('td')\n",
    "        for index,col in enumerate(cols):\n",
    "            if index == 0:\n",
    "                tempState['date'] = convert_to_date(col.text.strip())\n",
    "            elif index == 1:\n",
    "                if col.text.strip() != '?':\n",
    "                    tempState['handle'] = int(col.text.strip().replace(\"$\",\"\").replace(\",\",\"\"))\n",
    "\n",
    "                else:\n",
    "                    tempState['handle'] = 0\n",
    "\n",
    "            elif index == 2:\n",
    "                if col.text.strip() != '?':\n",
    "                    tempState['revenue'] = int(col.text.strip().replace(\"$\",\"\").replace(\",\",\"\"))\n",
    "\n",
    "                else:\n",
    "                    tempState['revenue'] = 0\n",
    "\n",
    "            elif index == 3:\n",
    "                if col.text.strip() != '?':\n",
    "                    tempState['hold'] = col.text.strip().replace(\"%\",\"\").replace(\",\",\".\")\n",
    "                else:\n",
    "                    tempState['hold'] = '0'\n",
    "\n",
    "            elif index == 4:\n",
    "                if col.text.strip() != '?':\n",
    "                    tempState['taxes'] = int(col.text.strip().replace(\"$\",\"\").replace(\",\",\"\"))\n",
    "\n",
    "                else:\n",
    "                    tempState['taxes'] = 0\n",
    "                    \n",
    "\n",
    "        infoRevenueByStateAndMonth.append(tempState)\n",
    "        \n",
    "\n",
    "\n"
   ]
  },
  {
   "cell_type": "code",
   "execution_count": 14,
   "metadata": {},
   "outputs": [],
   "source": [
    "#infoRevenueByStateAndMonth"
   ]
  },
  {
   "cell_type": "code",
   "execution_count": 15,
   "metadata": {},
   "outputs": [],
   "source": [
    "# Get Each state detail\n",
    "#table = soup.find('table', attrs={'class':'cta-row row-body'})"
   ]
  },
  {
   "cell_type": "code",
   "execution_count": 16,
   "metadata": {},
   "outputs": [],
   "source": [
    "#print(table)"
   ]
  },
  {
   "cell_type": "code",
   "execution_count": 17,
   "metadata": {},
   "outputs": [],
   "source": [
    "# Write Files\n",
    "import csv\n",
    "# Write revenue by state\n",
    "filename = \"revenue_by_state.csv\"\n",
    "\n",
    "# writing to csv file\n",
    "with open(filename, 'w') as csvfile:\n",
    "    # creating a csv dict writer object\n",
    "    writer = csv.DictWriter(csvfile, fieldnames=fieldsStateRevenues)\n",
    "\n",
    "    # writing headers (field names)\n",
    "    writer.writeheader()\n",
    "\n",
    "    # writing data rows\n",
    "    writer.writerows(stateRevenueInfo)"
   ]
  },
  {
   "cell_type": "code",
   "execution_count": 18,
   "metadata": {},
   "outputs": [],
   "source": [
    "# Write monthly revenue\n",
    "filename = \"revenue_by_month.csv\"\n",
    "\n",
    "# writing to csv file\n",
    "with open(filename, 'w') as csvfile:\n",
    "    # creating a csv dict writer object\n",
    "    writer = csv.DictWriter(csvfile, fieldnames=monthlyRevenues)\n",
    "\n",
    "    # writing headers (field names)\n",
    "    writer.writeheader()\n",
    "\n",
    "    # writing data rows\n",
    "    writer.writerows(monthlyRevenueInfo)"
   ]
  },
  {
   "cell_type": "code",
   "execution_count": 19,
   "metadata": {},
   "outputs": [],
   "source": [
    "# Write monthly revenue by state\n",
    "filename = \"revenue_by_state_by_month.csv\"\n",
    "\n",
    "# writing to csv file\n",
    "with open(filename, 'w') as csvfile:\n",
    "    # creating a csv dict writer object\n",
    "    writer = csv.DictWriter(csvfile, fieldnames=monthlyRevenuesByState)\n",
    "\n",
    "    # writing headers (field names)\n",
    "    writer.writeheader()\n",
    "\n",
    "    # writing data rows\n",
    "    writer.writerows(infoRevenueByStateAndMonth)\n"
   ]
  }
 ],
 "metadata": {
  "kernelspec": {
   "display_name": "wsenv",
   "language": "python",
   "name": "python3"
  },
  "language_info": {
   "codemirror_mode": {
    "name": "ipython",
    "version": 3
   },
   "file_extension": ".py",
   "mimetype": "text/x-python",
   "name": "python",
   "nbconvert_exporter": "python",
   "pygments_lexer": "ipython3",
   "version": "3.9.6"
  }
 },
 "nbformat": 4,
 "nbformat_minor": 2
}
